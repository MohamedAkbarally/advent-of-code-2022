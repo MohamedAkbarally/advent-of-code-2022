{
 "cells": [
  {
   "cell_type": "code",
   "execution_count": 58,
   "metadata": {},
   "outputs": [],
   "source": [
    "f = open(\"input.txt\", \"r\")\n",
    "input = f.read().rstrip()\n",
    "xs = input.split(\"\\n\")"
   ]
  },
  {
   "cell_type": "markdown",
   "metadata": {},
   "source": [
    "### Part 1"
   ]
  },
  {
   "cell_type": "code",
   "execution_count": 36,
   "metadata": {},
   "outputs": [],
   "source": [
    "def get_priority(c):\n",
    "    if c.lower() == c:\n",
    "        return ord(c) - 96\n",
    "    return ord(c) - 38"
   ]
  },
  {
   "cell_type": "code",
   "execution_count": 59,
   "metadata": {},
   "outputs": [
    {
     "data": {
      "text/plain": [
       "7990"
      ]
     },
     "execution_count": 59,
     "metadata": {},
     "output_type": "execute_result"
    }
   ],
   "source": [
    "sum([get_priority(list(set(x[:len(x)//2]) & set(x[len(x)//2:]))[0]) for x in xs])"
   ]
  },
  {
   "cell_type": "markdown",
   "metadata": {},
   "source": [
    "### Part 2"
   ]
  },
  {
   "cell_type": "code",
   "execution_count": 64,
   "metadata": {},
   "outputs": [
    {
     "data": {
      "text/plain": [
       "2602"
      ]
     },
     "execution_count": 64,
     "metadata": {},
     "output_type": "execute_result"
    }
   ],
   "source": [
    "sum([get_priority(list(set(x[0]) & set(x[1]) & set(x[2]))[0]) for x in list(zip(xs,xs[1:],xs[2:]))[::3]])"
   ]
  }
 ],
 "metadata": {
  "kernelspec": {
   "display_name": "Python 3",
   "language": "python",
   "name": "python3"
  },
  "vscode": {
   "interpreter": {
    "hash": "36ac1b0321c3ce47a02e583ee9e68477143e41abc90401050e65ad33a97dab0d"
   }
  }
 },
 "nbformat": 4,
 "nbformat_minor": 4
}
