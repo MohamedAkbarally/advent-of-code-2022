{
 "cells": [
  {
   "cell_type": "code",
   "execution_count": 3,
   "metadata": {},
   "outputs": [],
   "source": [
    "f = open(\"input.txt\", \"r\")\n",
    "input = f.read().rstrip()"
   ]
  },
  {
   "cell_type": "markdown",
   "metadata": {},
   "source": [
    "### Part 1"
   ]
  },
  {
   "cell_type": "code",
   "execution_count": 10,
   "metadata": {},
   "outputs": [
    {
     "name": "stdout",
     "output_type": "stream",
     "text": [
      "Wall time: 1.02 ms\n"
     ]
    },
    {
     "data": {
      "text/plain": [
       "10595"
      ]
     },
     "execution_count": 10,
     "metadata": {},
     "output_type": "execute_result"
    }
   ],
   "source": [
    "%%time\n",
    "\n",
    "points = {'X':1, 'Y':2, 'Z':3}\n",
    "\n",
    "def get_score(op, me):\n",
    "    score = points[me]\n",
    "    \n",
    "    if (op,me) in [('A','X'), ('B','Y'), ('C','Z')]:\n",
    "        return score + 3 \n",
    "        \n",
    "    if (op, me) in [('B','X'), ('C','Y'), ('A','Z')]:\n",
    "        return score\n",
    "        \n",
    "    return score + 6\n",
    "\n",
    "sum([get_score(*tuple(x.split(\" \"))) for x in input.split(\"\\n\")])"
   ]
  },
  {
   "cell_type": "markdown",
   "metadata": {},
   "source": [
    "### Part 2"
   ]
  },
  {
   "cell_type": "code",
   "execution_count": 11,
   "metadata": {},
   "outputs": [
    {
     "name": "stdout",
     "output_type": "stream",
     "text": [
      "Wall time: 998 µs\n"
     ]
    },
    {
     "data": {
      "text/plain": [
       "9541"
      ]
     },
     "execution_count": 11,
     "metadata": {},
     "output_type": "execute_result"
    }
   ],
   "source": [
    "%%time\n",
    "\n",
    "points = {'X':0, 'Y': 3, 'Z': 6 }\n",
    "symbol_map = {'A':0, 'B':1 , 'C':2 }\n",
    "\n",
    "def get_score(op, me):\n",
    "    score = points[me]\n",
    "    \n",
    "    if me == 'Y':\n",
    "        return score + symbol_map[op] + 1\n",
    "        \n",
    "    if me == 'Z':\n",
    "        return score + ((symbol_map[op]+1)%3) + 1\n",
    "        \n",
    "    return score + ((symbol_map[op]-1)%3) + 1\n",
    "\n",
    "sum([get_score(*tuple(x.split(\" \"))) for x in input.split(\"\\n\")])"
   ]
  }
 ],
 "metadata": {
  "kernelspec": {
   "display_name": "Python 3.8.3 64-bit",
   "language": "python",
   "name": "python3"
  },
  "language_info": {
   "codemirror_mode": {
    "name": "ipython",
    "version": 3
   },
   "file_extension": ".py",
   "mimetype": "text/x-python",
   "name": "python",
   "nbconvert_exporter": "python",
   "pygments_lexer": "ipython3",
   "version": "3.8.3"
  },
  "vscode": {
   "interpreter": {
    "hash": "36ac1b0321c3ce47a02e583ee9e68477143e41abc90401050e65ad33a97dab0d"
   }
  }
 },
 "nbformat": 4,
 "nbformat_minor": 4
}
